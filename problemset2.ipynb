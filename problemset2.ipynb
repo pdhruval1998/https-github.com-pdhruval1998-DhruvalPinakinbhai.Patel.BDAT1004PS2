{
 "cells": [
  {
   "cell_type": "markdown",
   "id": "0de7d9e5",
   "metadata": {},
   "source": [
    "# Problem Set 2"
   ]
  },
  {
   "cell_type": "markdown",
   "id": "3e57951e",
   "metadata": {},
   "source": [
    "This problem set is based on lectures 4,5 and 6. For a complete list of topics please consult page 2 of the course syllabus.<br> Please consult the “Instructions for Problem Set Submissions” document under course information before submitting your assignment."
   ]
  },
  {
   "cell_type": "markdown",
   "id": "976caa10",
   "metadata": {},
   "source": [
    "# Question1"
   ]
  },
  {
   "cell_type": "markdown",
   "id": "9aa2b13f",
   "metadata": {},
   "source": [
    "Consider the following Python module:<br>\n",
    "a = 0 <br>\n",
    "def b():<br>\n",
    "global a <br>\n",
    "a = c(a) <br>\n",
    "def c(a):<br>\n",
    "return a + 2 <br>\n",
    "After importing the module into the interpreter, you execute: <br>\n",
    "b() <br>\n",
    "b() <br>\n",
    "b() <br>\n",
    "a <br>\n",
    "? <br>\n",
    "What value is displayed when the last expression (a) is evaluated? Explain your answer by indicating what happens in every executed statement."
   ]
  },
  {
   "cell_type": "code",
   "execution_count": 1,
   "id": "f7317b04",
   "metadata": {},
   "outputs": [],
   "source": [
    "a = 0\n",
    "def b():\n",
    " global a\n",
    " a = c(a)\n",
    "def c(a): \n",
    " return a + 2"
   ]
  },
  {
   "cell_type": "code",
   "execution_count": 2,
   "id": "57260ec8",
   "metadata": {},
   "outputs": [
    {
     "data": {
      "text/plain": [
       "6"
      ]
     },
     "execution_count": 2,
     "metadata": {},
     "output_type": "execute_result"
    }
   ],
   "source": [
    "b()\n",
    "b()\n",
    "b()\n",
    "a"
   ]
  },
  {
   "cell_type": "markdown",
   "id": "4c1ebadc",
   "metadata": {},
   "source": [
    "Explanation of Question 1 : <br>\n",
    "The first step is to set a=0. <br>\n",
    "2nd Step: call function b() for the first time with \"a\" value of 0, pointing to b(), a=c(a), a = 0 <br>\n",
    "3rd Step: The function c() is called,return (a+2), which means (0+2), and the final value of a=(0+2)= 2 is obtained.<br>\n",
    "4th Step: Calling function b() a second time with \"a\" value of 2, pointing to b(), a=c(a), a = 2 <br>\n",
    "5th Step: The function c() is called, return (a+2), which means (2+2), and the final value of a=(2+2)= 4 is obtained. <br>\n",
    "6th Step: call function b() a third time, with \"a\" value of 4, pointing to b(), a=c(a), a = 4 <br>\n",
    "7th Step: The function c() is called, return (a+2), which means (4+2), and the final value of a=(4+2)= 6 is obtained. <br>"
   ]
  },
  {
   "cell_type": "markdown",
   "id": "47dba3f5",
   "metadata": {},
   "source": [
    "# Question2"
   ]
  },
  {
   "cell_type": "markdown",
   "id": "4844dcfd",
   "metadata": {},
   "source": [
    "Function fileLength(), given to you, takes the name of a file as input and returns the length of the file:<br>\n",
    "As shown above, if the file cannot be found by the interpreter or if it cannot be read as a text file, an exception will be raised. Modify function fileLength() so that a friendly message is printed instead:"
   ]
  },
  {
   "cell_type": "code",
   "execution_count": 3,
   "id": "9663de8e",
   "metadata": {},
   "outputs": [],
   "source": [
    "def file_length(fname):\n",
    "        try:\n",
    "            file = open(fname)\n",
    "            cts = file.read()\n",
    "            file.close()\n",
    "            print(len(cts))\n",
    "        except FileNotFoundError:\n",
    "            print(f'File {fname} not found.')"
   ]
  },
  {
   "cell_type": "code",
   "execution_count": 4,
   "id": "834c782a",
   "metadata": {},
   "outputs": [
    {
     "name": "stdout",
     "output_type": "stream",
     "text": [
      "6\n"
     ]
    }
   ],
   "source": [
    "file_length('dhruval.txt')"
   ]
  },
  {
   "cell_type": "code",
   "execution_count": 5,
   "id": "200c7d48",
   "metadata": {},
   "outputs": [
    {
     "name": "stdout",
     "output_type": "stream",
     "text": [
      "File dpp.txt not found.\n"
     ]
    }
   ],
   "source": [
    "file_length('dpp.txt')"
   ]
  },
  {
   "cell_type": "markdown",
   "id": "f8de0c01",
   "metadata": {},
   "source": [
    "# Question3"
   ]
  },
  {
   "cell_type": "markdown",
   "id": "a21f78da",
   "metadata": {},
   "source": [
    "Write a class named Marsupial that can be used as shown below:<br>\n",
    "Now write a class named Kangaroo as a subclass of Marsupial that inherits all the attributes of Marsupial and also: <br>\n",
    "a. extends the Marsupial __init__ constructor to take, as input, the coordinates x and y of the Kangaroo object <br>\n",
    "b. supports method jump that takes number values dx and dy as input and moves the kangaroo by dx units along the x-axis and by dy units along the y-axis and <br>\n",
    "c. overloads the __str__ operator so it behaves as shown below."
   ]
  },
  {
   "cell_type": "code",
   "execution_count": 22,
   "id": "6f8699b5",
   "metadata": {},
   "outputs": [
    {
     "name": "stdout",
     "output_type": "stream",
     "text": [
      "I am a Kangaroo located at coordinates (0,0)\n",
      "I am a Kangaroo located at coordinates (3,0)\n"
     ]
    }
   ],
   "source": [
    "class Marsupial:\n",
    "    def __init__(self):\n",
    "        self.myList = []\n",
    "    def put_in_pouch(self,str):\n",
    "        self.myList.append(str)\n",
    "    def pouch_contents(self):\n",
    "        return self.myList\n",
    "\n",
    "class Kangaroo(Marsupial):\n",
    "    def __init__(self,x,y):\n",
    "        Marsupial.__init__(self)\n",
    "        self.x = x\n",
    "        self.y = y\n",
    "    def jump(self,dx,dy):\n",
    "        self.x += dx\n",
    "        self.y += dy\n",
    "    def __str__(self):\n",
    "        return \"I am a Kangaroo located at coordinates (\"+str(self.x)+\",\"+str(self.y)+\")\"\n",
    "    \n",
    "my = Marsupial()\n",
    "my.put_in_pouch('doll')\n",
    "my.put_in_pouch('firetruck')\n",
    "my.put_in_pouch('kitten')\n",
    "my.pouch_contents()\n",
    "\n",
    "kgo = Kangaroo(0,0)\n",
    "\n",
    "print(kgo)\n",
    "\n",
    "kgo.put_in_pouch('doll')\n",
    "kgo.put_in_pouch('firetruck')\n",
    "kgo.put_in_pouch('kitten')\n",
    "kgo.pouch_contents()\n",
    "kgo.jump(1,0)\n",
    "kgo.jump(1,0)\n",
    "kgo.jump(1,0)\n",
    "print(kgo)"
   ]
  },
  {
   "cell_type": "markdown",
   "id": "2b261e80",
   "metadata": {},
   "source": [
    "# Question4"
   ]
  },
  {
   "cell_type": "markdown",
   "id": "935600c0",
   "metadata": {},
   "source": [
    "Write function collatz() that takes a positive integer x as input and prints the Collatz sequence starting at x. A Collatz sequence is obtained by repeatedly applying this rule to the previous number x in the sequence:<br>\n",
    "x = { 𝑥/2 𝑖𝑓 𝑥 𝑖𝑠 𝑒𝑣𝑒𝑛 <br>\n",
    "      3𝑥+1 𝑖𝑓 𝑥 𝑖𝑠 𝑜𝑑𝑑 <br>\n",
    "Your function should stop when the sequence gets to number 1. Your implementation must be recursive, without any loops."
   ]
  },
  {
   "cell_type": "code",
   "execution_count": 14,
   "id": "13b6b9b8",
   "metadata": {},
   "outputs": [],
   "source": [
    "def collatz(x):\n",
    "    if x == 1:\n",
    "        print(x)\n",
    "    elif x % 2 == 0:\n",
    "        print(x)\n",
    "        x = x/2\n",
    "        collatz(x)\n",
    "    else:\n",
    "        print(x)\n",
    "        x = 3*x + 1\n",
    "        collatz(x)"
   ]
  },
  {
   "cell_type": "code",
   "execution_count": 15,
   "id": "5def4ed1",
   "metadata": {},
   "outputs": [
    {
     "name": "stdout",
     "output_type": "stream",
     "text": [
      "10\n",
      "5.0\n",
      "16.0\n",
      "8.0\n",
      "4.0\n",
      "2.0\n",
      "1.0\n"
     ]
    }
   ],
   "source": [
    "collatz(10)"
   ]
  },
  {
   "cell_type": "code",
   "execution_count": 16,
   "id": "a35e0aa8",
   "metadata": {},
   "outputs": [
    {
     "name": "stdout",
     "output_type": "stream",
     "text": [
      "1\n"
     ]
    }
   ],
   "source": [
    "collatz(1)"
   ]
  },
  {
   "cell_type": "markdown",
   "id": "6592e073",
   "metadata": {},
   "source": [
    "# Question5"
   ]
  },
  {
   "cell_type": "markdown",
   "id": "b43e6e08",
   "metadata": {},
   "source": [
    "Write a recursive method binary() that takes a non-negative integer n and prints the binary representation of integer n."
   ]
  },
  {
   "cell_type": "code",
   "execution_count": 17,
   "id": "a7276266",
   "metadata": {},
   "outputs": [],
   "source": [
    "def binary(n):\n",
    "    st = str(n % 2)\n",
    "    \n",
    "    if n>>1>0:\n",
    "        st += binary(n >> 1)\n",
    "    \n",
    "    return st"
   ]
  },
  {
   "cell_type": "code",
   "execution_count": 18,
   "id": "b3192050",
   "metadata": {},
   "outputs": [
    {
     "data": {
      "text/plain": [
       "'0'"
      ]
     },
     "execution_count": 18,
     "metadata": {},
     "output_type": "execute_result"
    }
   ],
   "source": [
    "binary(0)"
   ]
  },
  {
   "cell_type": "code",
   "execution_count": 19,
   "id": "f6ac1ff4",
   "metadata": {},
   "outputs": [
    {
     "data": {
      "text/plain": [
       "'1'"
      ]
     },
     "execution_count": 19,
     "metadata": {},
     "output_type": "execute_result"
    }
   ],
   "source": [
    "binary(1)"
   ]
  },
  {
   "cell_type": "code",
   "execution_count": 20,
   "id": "fd798c1e",
   "metadata": {},
   "outputs": [
    {
     "data": {
      "text/plain": [
       "'11'"
      ]
     },
     "execution_count": 20,
     "metadata": {},
     "output_type": "execute_result"
    }
   ],
   "source": [
    "binary(3)"
   ]
  },
  {
   "cell_type": "code",
   "execution_count": 21,
   "id": "2c498ab3",
   "metadata": {},
   "outputs": [
    {
     "data": {
      "text/plain": [
       "'1001'"
      ]
     },
     "execution_count": 21,
     "metadata": {},
     "output_type": "execute_result"
    }
   ],
   "source": [
    "binary(9)"
   ]
  },
  {
   "cell_type": "markdown",
   "id": "53766898",
   "metadata": {},
   "source": [
    "# Question6"
   ]
  },
  {
   "cell_type": "markdown",
   "id": "8839a236",
   "metadata": {},
   "source": [
    "Implement a class named HeadingParser that can be used to parse an HTML document, and retrieve and print all the headings in the document. You should implement your class as a subclass of HTMLParser, defined in Standard Library module html.parser. When fed a string containing HTML code, your class should print the headings, one per line and in the order in which they appear in the document. Each heading should be indented as follows: an h1 heading should have indentation 0, and h2 heading should have indentation 1, etc. Test your implementation using w3c.html."
   ]
  },
  {
   "cell_type": "code",
   "execution_count": 8,
   "id": "38cb3eea",
   "metadata": {},
   "outputs": [],
   "source": [
    "from html.parser import HTMLParser\n",
    "\n",
    "class HeadingParser(HTMLParser):\n",
    "    headers = [\"h1\", \"h2\"]\n",
    "    currHeader = -1\n",
    "\n",
    "    def handle_starttag(self, tag, attrs):\n",
    "        if tag in HeadingParser.headers:\n",
    "            HeadingParser.currHeader = HeadingParser.headers.index(tag)\n",
    "    \n",
    "    def handle_endtag(self, tag):\n",
    "        if tag == HeadingParser.headers[HeadingParser.currHeader]:\n",
    "            HeadingParser.currHeader = -1\n",
    "            \n",
    "    def handle_data(self, data):\n",
    "        if HeadingParser.currHeader >= 0:\n",
    "            print(\" \" * HeadingParser.currHeader + data)"
   ]
  },
  {
   "cell_type": "code",
   "execution_count": 9,
   "id": "a243d796",
   "metadata": {},
   "outputs": [],
   "source": [
    "fileOpen = open(\"w3cc.html\",\"r\")"
   ]
  },
  {
   "cell_type": "code",
   "execution_count": 10,
   "id": "e68d6c0d",
   "metadata": {},
   "outputs": [],
   "source": [
    "fileContents = fileOpen.read()"
   ]
  },
  {
   "cell_type": "code",
   "execution_count": 11,
   "id": "bc241733",
   "metadata": {},
   "outputs": [],
   "source": [
    "myHeadingParser = HeadingParser()"
   ]
  },
  {
   "cell_type": "code",
   "execution_count": 13,
   "id": "2a2e666f",
   "metadata": {},
   "outputs": [
    {
     "name": "stdout",
     "output_type": "stream",
     "text": [
      "W3C Mission\n",
      " Principles\n"
     ]
    }
   ],
   "source": [
    "myHeadingParser.feed(fileContents)"
   ]
  },
  {
   "cell_type": "markdown",
   "id": "f83f524a",
   "metadata": {},
   "source": [
    "# Question7"
   ]
  },
  {
   "cell_type": "markdown",
   "id": "4b9fb95d",
   "metadata": {},
   "source": [
    "Implement recursive function webdir() that takes as input: a URL (as a string) and non-negative integers depth and indent. Your function should visit every web page reachable from the starting URL web page in depth clicks or less, and print each web page's URL. As shown below, indentation, specified by indent, should be used to indicate the depth of a URL."
   ]
  },
  {
   "cell_type": "code",
   "execution_count": null,
   "id": "6232485d",
   "metadata": {},
   "outputs": [],
   "source": []
  },
  {
   "cell_type": "markdown",
   "id": "e4c000d6",
   "metadata": {},
   "source": [
    "# Question8"
   ]
  },
  {
   "cell_type": "markdown",
   "id": "5dcd18ae",
   "metadata": {},
   "source": [
    "Write SQL queries on the below database table that return:<br>\n",
    "a) All the temperature data.<br>\n",
    "b) All the cities, but without repetition.<br>\n",
    "c) All the records for India.<br>\n",
    "d) All the Fall records.<br>\n",
    "e) The city, country, and season for which the average rainfall is between 200 and 400 millimeters.<br>\n",
    "f) The city and country for which the average Fall temperature is above 20 degrees, in increasing temperature order.<br>\n",
    "g) The total annual rainfall for Cairo.<br>\n",
    "h) The total rainfall for each season."
   ]
  },
  {
   "cell_type": "code",
   "execution_count": 1,
   "id": "86d18372",
   "metadata": {},
   "outputs": [
    {
     "data": {
      "text/plain": [
       "<sqlite3.Cursor at 0x26f839f0880>"
      ]
     },
     "execution_count": 1,
     "metadata": {},
     "output_type": "execute_result"
    }
   ],
   "source": [
    "import sqlite3\n",
    "con = sqlite3.connect('info.db')\n",
    "cur = con.cursor()\n",
    "cur.execute(\"CREATE TABLE weather (city text, country text, season text,temperature real, rainfall real)\")"
   ]
  },
  {
   "cell_type": "code",
   "execution_count": 2,
   "id": "0ada9235",
   "metadata": {},
   "outputs": [
    {
     "data": {
      "text/plain": [
       "<sqlite3.Cursor at 0x26f839f0880>"
      ]
     },
     "execution_count": 2,
     "metadata": {},
     "output_type": "execute_result"
    }
   ],
   "source": [
    "cur.execute(\"INSERT INTO weather VALUES ('Mumbai', 'India', 'Winter', 24.8, 5.9)\")\n",
    "cur.execute(\"INSERT INTO weather VALUES ('Mumbai', 'India', 'Spring', 28.4, 16.2)\")\n",
    "cur.execute(\"INSERT INTO weather VALUES ('Mumbai', 'India', 'Summer', 27.9, 1549.4)\")\n",
    "cur.execute(\"INSERT INTO weather VALUES ('Mumbai', 'India', 'Fall', 27.6, 346.0)\")\n",
    "cur.execute(\"INSERT INTO weather VALUES ('London', 'United Kingdom', 'Winter', 4.2, 207.7)\")\n",
    "cur.execute(\"INSERT INTO weather VALUES ('London', 'United Kingdom', 'Spring', 8.3, 169.6)\")\n",
    "cur.execute(\"INSERT INTO weather VALUES ('London', 'United Kingdom', 'Summer', 15.7, 157.0)\")\n",
    "cur.execute(\"INSERT INTO weather VALUES ('London', 'United Kingdom', 'Fall', 10.4, 218.5)\")\n",
    "cur.execute(\"INSERT INTO weather VALUES ('Cairo', 'Egypt', 'Winter', 13.6, 16.5)\")\n",
    "cur.execute(\"INSERT INTO weather VALUES ('Cairo', 'Egypt', 'Spring', 20.7, 6.5)\")\n",
    "cur.execute(\"INSERT INTO weather VALUES ('Cairo', 'Egypt', 'Summer', 27.7, 0.1)\")\n",
    "cur.execute(\"INSERT INTO weather VALUES ('Cairo', 'Egypt', 'Fall', 22.2, 4.5)\")"
   ]
  },
  {
   "cell_type": "code",
   "execution_count": 3,
   "id": "8d9f9798",
   "metadata": {},
   "outputs": [
    {
     "data": {
      "text/plain": [
       "[(24.8,),\n",
       " (28.4,),\n",
       " (27.9,),\n",
       " (27.6,),\n",
       " (4.2,),\n",
       " (8.3,),\n",
       " (15.7,),\n",
       " (10.4,),\n",
       " (13.6,),\n",
       " (20.7,),\n",
       " (27.7,),\n",
       " (22.2,)]"
      ]
     },
     "execution_count": 3,
     "metadata": {},
     "output_type": "execute_result"
    }
   ],
   "source": [
    "cur.execute(\"Select temperature from weather\")\n",
    "cur.fetchall()"
   ]
  },
  {
   "cell_type": "code",
   "execution_count": 4,
   "id": "2c9811e0",
   "metadata": {},
   "outputs": [
    {
     "data": {
      "text/plain": [
       "[('Mumbai',), ('London',), ('Cairo',)]"
      ]
     },
     "execution_count": 4,
     "metadata": {},
     "output_type": "execute_result"
    }
   ],
   "source": [
    "cur.execute(\"Select distinct city from weather\")\n",
    "cur.fetchall()"
   ]
  },
  {
   "cell_type": "code",
   "execution_count": 5,
   "id": "42abbf0e",
   "metadata": {},
   "outputs": [
    {
     "data": {
      "text/plain": [
       "[('Mumbai', 'India', 'Winter', 24.8, 5.9),\n",
       " ('Mumbai', 'India', 'Spring', 28.4, 16.2),\n",
       " ('Mumbai', 'India', 'Summer', 27.9, 1549.4),\n",
       " ('Mumbai', 'India', 'Fall', 27.6, 346.0)]"
      ]
     },
     "execution_count": 5,
     "metadata": {},
     "output_type": "execute_result"
    }
   ],
   "source": [
    "cur.execute(\"Select * from weather where country = 'India'\")\n",
    "cur.fetchall()"
   ]
  },
  {
   "cell_type": "code",
   "execution_count": 6,
   "id": "ccc0784f",
   "metadata": {},
   "outputs": [
    {
     "data": {
      "text/plain": [
       "[('Mumbai', 'India', 'Fall', 27.6, 346.0),\n",
       " ('London', 'United Kingdom', 'Fall', 10.4, 218.5),\n",
       " ('Cairo', 'Egypt', 'Fall', 22.2, 4.5)]"
      ]
     },
     "execution_count": 6,
     "metadata": {},
     "output_type": "execute_result"
    }
   ],
   "source": [
    "cur.execute(\"Select * from weather where season = 'Fall'\")\n",
    "cur.fetchall()"
   ]
  },
  {
   "cell_type": "code",
   "execution_count": 7,
   "id": "f0b84b2e",
   "metadata": {},
   "outputs": [
    {
     "data": {
      "text/plain": [
       "[('London', 'United Kingdom', 'Fall'),\n",
       " ('London', 'United Kingdom', 'Winter'),\n",
       " ('Mumbai', 'India', 'Fall')]"
      ]
     },
     "execution_count": 7,
     "metadata": {},
     "output_type": "execute_result"
    }
   ],
   "source": [
    "cur.execute(\"Select city, country, season from weather group by city, country, season having avg(rainfall) between 200 and 400\")\n",
    "cur.fetchall()"
   ]
  },
  {
   "cell_type": "code",
   "execution_count": 8,
   "id": "1b545060",
   "metadata": {},
   "outputs": [
    {
     "data": {
      "text/plain": [
       "[('Cairo', 'Egypt'), ('Mumbai', 'India')]"
      ]
     },
     "execution_count": 8,
     "metadata": {},
     "output_type": "execute_result"
    }
   ],
   "source": [
    "cur.execute(\"Select city, country from weather group by city, country having avg(temperature) > 20 order by temperature\")\n",
    "cur.fetchall()"
   ]
  },
  {
   "cell_type": "code",
   "execution_count": 9,
   "id": "8338b554",
   "metadata": {},
   "outputs": [
    {
     "data": {
      "text/plain": [
       "[(27.6,)]"
      ]
     },
     "execution_count": 9,
     "metadata": {},
     "output_type": "execute_result"
    }
   ],
   "source": [
    "cur.execute(\"Select sum(rainfall) from weather where city = 'Cairo'\")\n",
    "cur.fetchall()"
   ]
  },
  {
   "cell_type": "code",
   "execution_count": 10,
   "id": "dd2278c9",
   "metadata": {},
   "outputs": [
    {
     "data": {
      "text/plain": [
       "[('Fall', 569.0),\n",
       " ('Spring', 192.29999999999998),\n",
       " ('Summer', 1706.5),\n",
       " ('Winter', 230.1)]"
      ]
     },
     "execution_count": 10,
     "metadata": {},
     "output_type": "execute_result"
    }
   ],
   "source": [
    "cur.execute(\"Select season, sum(rainfall) season from weather group by season \")\n",
    "cur.fetchall()"
   ]
  },
  {
   "cell_type": "markdown",
   "id": "5f58d323",
   "metadata": {},
   "source": [
    "# Question9"
   ]
  },
  {
   "cell_type": "markdown",
   "id": "165ca823",
   "metadata": {},
   "source": [
    "Suppose list words is defined as follows: <br>\n",
    "words = ['The', 'quick', 'brown', 'fox', 'jumps', 'over', 'the', 'lazy', 'dog'] <br>\n",
    "Write list comprehension expressions that use list words and generate the following lists:<br>"
   ]
  },
  {
   "cell_type": "code",
   "execution_count": 11,
   "id": "8976c6c7",
   "metadata": {},
   "outputs": [
    {
     "name": "stdout",
     "output_type": "stream",
     "text": [
      "['THE', 'QUICK', 'BROWN', 'FOX', 'JUMPS', 'OVER', 'THE', 'LAZY', 'DOG']\n",
      "['the', 'quick', 'brown', 'fox', 'jumps', 'over', 'the', 'lazy', 'dog']\n",
      "[3, 5, 5, 3, 5, 4, 3, 4, 3]\n",
      "[['THE', 'the', 3], ['QUICK', 'quick', 5], ['BROWN', 'brown', 5], ['FOX', 'fox', 3], ['JUMPS', 'jumps', 5], ['OVER', 'over', 4], ['THE', 'the', 3], ['LAZY', 'lazy', 4], ['DOG', 'dog', 3]]\n",
      "['quick', 'brown', 'jumps', 'over', 'lazy']\n"
     ]
    }
   ],
   "source": [
    "words = ['The', 'quick', 'brown', 'fox', 'jumps', 'over',\n",
    "'the', 'lazy', 'dog']\n",
    "print([a.upper() for a in words])\n",
    "print([a.lower() for a in words])\n",
    "print([len(a) for a in words])\n",
    "print([[a.upper(), a.lower(), len(a)] for a in words])\n",
    "print([a for a in words if len(a)>=4])"
   ]
  }
 ],
 "metadata": {
  "kernelspec": {
   "display_name": "Python 3",
   "language": "python",
   "name": "python3"
  },
  "language_info": {
   "codemirror_mode": {
    "name": "ipython",
    "version": 3
   },
   "file_extension": ".py",
   "mimetype": "text/x-python",
   "name": "python",
   "nbconvert_exporter": "python",
   "pygments_lexer": "ipython3",
   "version": "3.8.8"
  }
 },
 "nbformat": 4,
 "nbformat_minor": 5
}
